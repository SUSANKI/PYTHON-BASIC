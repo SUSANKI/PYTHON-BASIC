{
 "cells": [
  {
   "cell_type": "code",
   "execution_count": 1,
   "metadata": {},
   "outputs": [],
   "source": [
    "import numpy as np\n",
    "import pandas as pd"
   ]
  },
  {
   "cell_type": "markdown",
   "metadata": {},
   "source": [
    "### SERIES"
   ]
  },
  {
   "cell_type": "code",
   "execution_count": 2,
   "metadata": {},
   "outputs": [],
   "source": [
    "# pd.Series(data, index=index, name='name')"
   ]
  },
  {
   "cell_type": "markdown",
   "metadata": {},
   "source": [
    "Series is a one-dimensional labeled array capable of holding any data type (integers, strings, floating point numbers, Python objects, etc.)."
   ]
  },
  {
   "cell_type": "code",
   "execution_count": 19,
   "metadata": {},
   "outputs": [
    {
     "data": {
      "text/plain": [
       "8     5\n",
       "9     6\n",
       "10    7\n",
       "11    8\n",
       "12    9\n",
       "dtype: int32"
      ]
     },
     "execution_count": 19,
     "metadata": {},
     "output_type": "execute_result"
    }
   ],
   "source": [
    "# We can generate the Series either from np.array,list, dictionary or simply a scalar value @-@\n",
    "\n",
    "# np.array \n",
    "# For ex, I want to generate a series with value from 0-9 with index from 3-13 @-@\n",
    "pd.Series(np.arange(10),index=range(3,13))[5:]"
   ]
  },
  {
   "cell_type": "code",
   "execution_count": 11,
   "metadata": {},
   "outputs": [
    {
     "data": {
      "text/plain": [
       "a      0.0\n",
       "e      2.5\n",
       "12     5.0\n",
       "15     7.5\n",
       "@     10.0\n",
       "dtype: float64"
      ]
     },
     "execution_count": 11,
     "metadata": {},
     "output_type": "execute_result"
    }
   ],
   "source": [
    "# More ex: @-@    # Remember that the length of index must be equal to length of data input *-*\n",
    "pd.Series(np.linspace(0,10,5),index=['a','e',12,15,'@'])"
   ]
  },
  {
   "cell_type": "code",
   "execution_count": 13,
   "metadata": {},
   "outputs": [
    {
     "data": {
      "text/plain": [
       "0    1\n",
       "1    2\n",
       "2    3\n",
       "dtype: int64"
      ]
     },
     "execution_count": 13,
     "metadata": {},
     "output_type": "execute_result"
    }
   ],
   "source": [
    "# List\n",
    "# Without the index parameters, by default, it will give integer index from 0 *-*\n",
    "pd.Series([1,2,3])"
   ]
  },
  {
   "cell_type": "code",
   "execution_count": 14,
   "metadata": {},
   "outputs": [
    {
     "data": {
      "text/plain": [
       "a    122\n",
       "b    123\n",
       "c    321\n",
       "dtype: int64"
      ]
     },
     "execution_count": 14,
     "metadata": {},
     "output_type": "execute_result"
    }
   ],
   "source": [
    "# Dictionary\n",
    "D={'a':122,'b':123, 'c':321}\n",
    "pd.Series(D)"
   ]
  },
  {
   "cell_type": "code",
   "execution_count": 15,
   "metadata": {},
   "outputs": [
    {
     "data": {
      "text/plain": [
       "2.0     12\n",
       "4.0     12\n",
       "6.0     12\n",
       "8.0     12\n",
       "10.0    12\n",
       "dtype: int64"
      ]
     },
     "execution_count": 15,
     "metadata": {},
     "output_type": "execute_result"
    }
   ],
   "source": [
    "# So what about an scalar value ??? Curious @-@\n",
    "pd.Series(12,index=np.linspace(2,10,5))"
   ]
  },
  {
   "cell_type": "code",
   "execution_count": 17,
   "metadata": {},
   "outputs": [
    {
     "data": {
      "text/plain": [
       "pandas.core.series.Series"
      ]
     },
     "execution_count": 17,
     "metadata": {},
     "output_type": "execute_result"
    }
   ],
   "source": [
    "# Type of the series is obviously... pd.series @-@\n",
    "type(pd.Series([1,2,3]))"
   ]
  },
  {
   "cell_type": "code",
   "execution_count": 18,
   "metadata": {},
   "outputs": [
    {
     "data": {
      "text/plain": [
       "dtype('int64')"
      ]
     },
     "execution_count": 18,
     "metadata": {},
     "output_type": "execute_result"
    }
   ],
   "source": [
    "# .dtype  : this function return type of data\n",
    "# So, how to check the values inside the Series\n",
    "pd.Series([1,2,3]).dtype   # So value inside is obviously integer *-*"
   ]
  },
  {
   "cell_type": "markdown",
   "metadata": {},
   "source": [
    "Series acts very similarly to a ndarray, and is a valid argument to most NumPy functions. However, operations such as slicing will also slice the index."
   ]
  },
  {
   "cell_type": "markdown",
   "metadata": {},
   "source": [
    "Series also have some similarity with a list "
   ]
  },
  {
   "cell_type": "code",
   "execution_count": 32,
   "metadata": {},
   "outputs": [
    {
     "data": {
      "text/plain": [
       "0    0\n",
       "1    1\n",
       "2    2\n",
       "dtype: int32"
      ]
     },
     "execution_count": 32,
     "metadata": {},
     "output_type": "execute_result"
    }
   ],
   "source": [
    "# For an example series @-@\n",
    "S= pd.Series(np.arange(10))\n",
    "S[:3]"
   ]
  },
  {
   "cell_type": "code",
   "execution_count": 53,
   "metadata": {},
   "outputs": [
    {
     "data": {
      "text/plain": [
       "4    4\n",
       "2    2\n",
       "8    8\n",
       "dtype: int32"
      ]
     },
     "execution_count": 53,
     "metadata": {},
     "output_type": "execute_result"
    }
   ],
   "source": [
    "S[[4,2,8]]"
   ]
  },
  {
   "cell_type": "code",
   "execution_count": 61,
   "metadata": {},
   "outputs": [
    {
     "data": {
      "text/plain": [
       "9    9\n",
       "8    8\n",
       "7    7\n",
       "dtype: int32"
      ]
     },
     "execution_count": 61,
     "metadata": {},
     "output_type": "execute_result"
    }
   ],
   "source": [
    "S[list(range(len(S)))[::-1]][:3]"
   ]
  },
  {
   "cell_type": "code",
   "execution_count": 33,
   "metadata": {},
   "outputs": [
    {
     "data": {
      "text/plain": [
       "6    6\n",
       "7    7\n",
       "8    8\n",
       "9    9\n",
       "dtype: int32"
      ]
     },
     "execution_count": 33,
     "metadata": {},
     "output_type": "execute_result"
    }
   ],
   "source": [
    "S[S>5]"
   ]
  },
  {
   "cell_type": "code",
   "execution_count": 37,
   "metadata": {},
   "outputs": [
    {
     "data": {
      "text/plain": [
       "6    6\n",
       "7    7\n",
       "8    8\n",
       "dtype: int32"
      ]
     },
     "execution_count": 37,
     "metadata": {},
     "output_type": "execute_result"
    }
   ],
   "source": [
    "S[(S>5)& (S<9)]"
   ]
  },
  {
   "cell_type": "code",
   "execution_count": 45,
   "metadata": {},
   "outputs": [
    {
     "name": "stdout",
     "output_type": "stream",
     "text": [
      "[5 6 7 8 9]\n",
      "[5 6 7 8 9]\n"
     ]
    }
   ],
   "source": [
    "print(np.array(S[S>S.mean()]))\n",
    "print(np.array(S[S>S.median()]))"
   ]
  },
  {
   "cell_type": "code",
   "execution_count": 43,
   "metadata": {},
   "outputs": [
    {
     "data": {
      "text/plain": [
       "array([False, False, False, False, False, False,  True,  True,  True,\n",
       "        True])"
      ]
     },
     "execution_count": 43,
     "metadata": {},
     "output_type": "execute_result"
    }
   ],
   "source": [
    "np.array(S>5)"
   ]
  },
  {
   "cell_type": "code",
   "execution_count": 49,
   "metadata": {},
   "outputs": [
    {
     "name": "stdout",
     "output_type": "stream",
     "text": [
      "[0.         0.69314718 1.09861229 1.38629436 1.60943791 1.79175947\n",
      " 1.94591015 2.07944154 2.19722458]\n",
      "[1.00000000e+00 2.71828183e+00 7.38905610e+00 2.00855369e+01\n",
      " 5.45981500e+01 1.48413159e+02 4.03428793e+02 1.09663316e+03\n",
      " 2.98095799e+03 8.10308393e+03]\n"
     ]
    }
   ],
   "source": [
    "print(np.array(np.log(S[1:])))\n",
    "print(np.array(np.exp(S)))"
   ]
  },
  {
   "cell_type": "code",
   "execution_count": 52,
   "metadata": {},
   "outputs": [
    {
     "data": {
      "text/plain": [
       "0    0\n",
       "1    2\n",
       "2    4\n",
       "3    6\n",
       "4    8\n",
       "dtype: int32"
      ]
     },
     "execution_count": 52,
     "metadata": {},
     "output_type": "execute_result"
    }
   ],
   "source": [
    "S2=2*S\n",
    "S2[:5]"
   ]
  },
  {
   "cell_type": "code",
   "execution_count": 39,
   "metadata": {},
   "outputs": [
    {
     "data": {
      "text/plain": [
       "[5, 7, 9, 11, 13, 15, 17, 19, 21, 23]"
      ]
     },
     "execution_count": 39,
     "metadata": {},
     "output_type": "execute_result"
    }
   ],
   "source": [
    "[(2*x+5) for x in S]   # List comprehension *-*"
   ]
  },
  {
   "cell_type": "code",
   "execution_count": 81,
   "metadata": {},
   "outputs": [
    {
     "data": {
      "text/plain": [
       "array([0, 1, 2, 3, 4, 5, 6, 7, 8, 9])"
      ]
     },
     "execution_count": 81,
     "metadata": {},
     "output_type": "execute_result"
    }
   ],
   "source": [
    "# .array\n",
    "# .to_numpy\n",
    "# We can also convert a list into an array \n",
    "S.array   # This function turn to Pandas array\n",
    "# Or\n",
    "S.to_numpy\n",
    "# Or\n",
    "np.array(S)"
   ]
  },
  {
   "cell_type": "code",
   "execution_count": 84,
   "metadata": {},
   "outputs": [
    {
     "data": {
      "text/plain": [
       "7     7\n",
       "8     8\n",
       "9     9\n",
       "10    5\n",
       "dtype: int64"
      ]
     },
     "execution_count": 84,
     "metadata": {},
     "output_type": "execute_result"
    }
   ],
   "source": [
    "# Can we add 1 new value for our Series @-@\n",
    "S[10]=5\n",
    "S[7:]"
   ]
  },
  {
   "cell_type": "code",
   "execution_count": 90,
   "metadata": {},
   "outputs": [
    {
     "data": {
      "text/plain": [
       "10    5\n",
       "9     9\n",
       "8     8\n",
       "dtype: int64"
      ]
     },
     "execution_count": 90,
     "metadata": {},
     "output_type": "execute_result"
    }
   ],
   "source": [
    "S[::-1][:3]"
   ]
  },
  {
   "cell_type": "code",
   "execution_count": 86,
   "metadata": {},
   "outputs": [
    {
     "data": {
      "text/plain": [
       "0      0\n",
       "1      2\n",
       "2      4\n",
       "3      6\n",
       "4      8\n",
       "5     10\n",
       "6     12\n",
       "7     14\n",
       "8     16\n",
       "9     18\n",
       "10    10\n",
       "dtype: int64"
      ]
     },
     "execution_count": 86,
     "metadata": {},
     "output_type": "execute_result"
    }
   ],
   "source": [
    "S[0:]+ S[::-1]  # Remember that the Series add by index"
   ]
  },
  {
   "cell_type": "code",
   "execution_count": 88,
   "metadata": {},
   "outputs": [
    {
     "data": {
      "text/plain": [
       "array([ 5, 10, 10, 10, 10, 10, 10, 10, 10, 10,  5], dtype=int64)"
      ]
     },
     "execution_count": 88,
     "metadata": {},
     "output_type": "execute_result"
    }
   ],
   "source": [
    "A= np.array(S)\n",
    "A[0:]+A[::-1]"
   ]
  },
  {
   "cell_type": "markdown",
   "metadata": {},
   "source": [
    "### BASICS OF DATAFRAME"
   ]
  },
  {
   "cell_type": "code",
   "execution_count": 17,
   "metadata": {},
   "outputs": [],
   "source": [
    "df = pd.read_csv('C:/Users/Win 10/Documents/RISKY PORTFOLIO/excel_ctg.csv')"
   ]
  },
  {
   "cell_type": "code",
   "execution_count": 4,
   "metadata": {},
   "outputs": [
    {
     "data": {
      "text/html": [
       "<div>\n",
       "<style scoped>\n",
       "    .dataframe tbody tr th:only-of-type {\n",
       "        vertical-align: middle;\n",
       "    }\n",
       "\n",
       "    .dataframe tbody tr th {\n",
       "        vertical-align: top;\n",
       "    }\n",
       "\n",
       "    .dataframe thead th {\n",
       "        text-align: right;\n",
       "    }\n",
       "</style>\n",
       "<table border=\"1\" class=\"dataframe\">\n",
       "  <thead>\n",
       "    <tr style=\"text-align: right;\">\n",
       "      <th></th>\n",
       "      <th>&lt;Ticker&gt;</th>\n",
       "      <th>&lt;DTYYYYMMDD&gt;</th>\n",
       "      <th>&lt;Open&gt;</th>\n",
       "      <th>&lt;High&gt;</th>\n",
       "      <th>&lt;Low&gt;</th>\n",
       "      <th>&lt;Close&gt;</th>\n",
       "      <th>&lt;Volume&gt;</th>\n",
       "    </tr>\n",
       "  </thead>\n",
       "  <tbody>\n",
       "    <tr>\n",
       "      <th>0</th>\n",
       "      <td>CTG</td>\n",
       "      <td>20210219</td>\n",
       "      <td>37.0</td>\n",
       "      <td>37.50</td>\n",
       "      <td>36.10</td>\n",
       "      <td>37.0</td>\n",
       "      <td>12154600</td>\n",
       "    </tr>\n",
       "    <tr>\n",
       "      <th>1</th>\n",
       "      <td>CTG</td>\n",
       "      <td>20210218</td>\n",
       "      <td>36.8</td>\n",
       "      <td>37.05</td>\n",
       "      <td>36.30</td>\n",
       "      <td>36.8</td>\n",
       "      <td>10032300</td>\n",
       "    </tr>\n",
       "    <tr>\n",
       "      <th>2</th>\n",
       "      <td>CTG</td>\n",
       "      <td>20210217</td>\n",
       "      <td>36.4</td>\n",
       "      <td>36.80</td>\n",
       "      <td>35.85</td>\n",
       "      <td>36.8</td>\n",
       "      <td>9896400</td>\n",
       "    </tr>\n",
       "  </tbody>\n",
       "</table>\n",
       "</div>"
      ],
      "text/plain": [
       "  <Ticker>  <DTYYYYMMDD>  <Open>  <High>  <Low>  <Close>  <Volume>\n",
       "0      CTG      20210219    37.0   37.50  36.10     37.0  12154600\n",
       "1      CTG      20210218    36.8   37.05  36.30     36.8  10032300\n",
       "2      CTG      20210217    36.4   36.80  35.85     36.8   9896400"
      ]
     },
     "execution_count": 4,
     "metadata": {},
     "output_type": "execute_result"
    }
   ],
   "source": [
    "# We can preview the data by looking at the head and tail of it @-@\n",
    "df.head(3)"
   ]
  },
  {
   "cell_type": "code",
   "execution_count": 18,
   "metadata": {},
   "outputs": [
    {
     "data": {
      "text/html": [
       "<div>\n",
       "<style scoped>\n",
       "    .dataframe tbody tr th:only-of-type {\n",
       "        vertical-align: middle;\n",
       "    }\n",
       "\n",
       "    .dataframe tbody tr th {\n",
       "        vertical-align: top;\n",
       "    }\n",
       "\n",
       "    .dataframe thead th {\n",
       "        text-align: right;\n",
       "    }\n",
       "</style>\n",
       "<table border=\"1\" class=\"dataframe\">\n",
       "  <thead>\n",
       "    <tr style=\"text-align: right;\">\n",
       "      <th></th>\n",
       "      <th>&lt;Ticker&gt;</th>\n",
       "      <th>&lt;DTYYYYMMDD&gt;</th>\n",
       "      <th>&lt;Open&gt;</th>\n",
       "      <th>&lt;High&gt;</th>\n",
       "      <th>&lt;Low&gt;</th>\n",
       "      <th>&lt;Close&gt;</th>\n",
       "      <th>&lt;Volume&gt;</th>\n",
       "    </tr>\n",
       "  </thead>\n",
       "  <tbody>\n",
       "    <tr>\n",
       "      <th>2891</th>\n",
       "      <td>CTG</td>\n",
       "      <td>20090720</td>\n",
       "      <td>13.9989</td>\n",
       "      <td>13.9989</td>\n",
       "      <td>13.9989</td>\n",
       "      <td>13.9989</td>\n",
       "      <td>156560</td>\n",
       "    </tr>\n",
       "    <tr>\n",
       "      <th>2892</th>\n",
       "      <td>CTG</td>\n",
       "      <td>20090717</td>\n",
       "      <td>14.9269</td>\n",
       "      <td>15.0816</td>\n",
       "      <td>14.7336</td>\n",
       "      <td>14.7336</td>\n",
       "      <td>1002480</td>\n",
       "    </tr>\n",
       "    <tr>\n",
       "      <th>2893</th>\n",
       "      <td>CTG</td>\n",
       "      <td>20090716</td>\n",
       "      <td>15.4683</td>\n",
       "      <td>17.4019</td>\n",
       "      <td>15.4683</td>\n",
       "      <td>15.5070</td>\n",
       "      <td>2401900</td>\n",
       "    </tr>\n",
       "  </tbody>\n",
       "</table>\n",
       "</div>"
      ],
      "text/plain": [
       "     <Ticker>  <DTYYYYMMDD>   <Open>   <High>    <Low>  <Close>  <Volume>\n",
       "2891      CTG      20090720  13.9989  13.9989  13.9989  13.9989    156560\n",
       "2892      CTG      20090717  14.9269  15.0816  14.7336  14.7336   1002480\n",
       "2893      CTG      20090716  15.4683  17.4019  15.4683  15.5070   2401900"
      ]
     },
     "execution_count": 18,
     "metadata": {},
     "output_type": "execute_result"
    }
   ],
   "source": [
    "df.tail(3)"
   ]
  },
  {
   "cell_type": "code",
   "execution_count": 19,
   "metadata": {},
   "outputs": [
    {
     "name": "stdout",
     "output_type": "stream",
     "text": [
      "<class 'pandas.core.frame.DataFrame'>\n",
      "RangeIndex: 2894 entries, 0 to 2893\n",
      "Data columns (total 7 columns):\n",
      " #   Column        Non-Null Count  Dtype  \n",
      "---  ------        --------------  -----  \n",
      " 0   <Ticker>      2894 non-null   object \n",
      " 1   <DTYYYYMMDD>  2894 non-null   int64  \n",
      " 2   <Open>        2894 non-null   float64\n",
      " 3   <High>        2894 non-null   float64\n",
      " 4   <Low>         2894 non-null   float64\n",
      " 5   <Close>       2894 non-null   float64\n",
      " 6   <Volume>      2894 non-null   int64  \n",
      "dtypes: float64(4), int64(2), object(1)\n",
      "memory usage: 158.4+ KB\n"
     ]
    }
   ],
   "source": [
    "# .info() : This function show inportant info about the dataset @-@\n",
    "df.info()"
   ]
  },
  {
   "cell_type": "code",
   "execution_count": 20,
   "metadata": {},
   "outputs": [
    {
     "data": {
      "text/html": [
       "<div>\n",
       "<style scoped>\n",
       "    .dataframe tbody tr th:only-of-type {\n",
       "        vertical-align: middle;\n",
       "    }\n",
       "\n",
       "    .dataframe tbody tr th {\n",
       "        vertical-align: top;\n",
       "    }\n",
       "\n",
       "    .dataframe thead th {\n",
       "        text-align: right;\n",
       "    }\n",
       "</style>\n",
       "<table border=\"1\" class=\"dataframe\">\n",
       "  <thead>\n",
       "    <tr style=\"text-align: right;\">\n",
       "      <th></th>\n",
       "      <th>&lt;Ticker&gt;</th>\n",
       "      <th>&lt;DTYYYYMMDD&gt;</th>\n",
       "      <th>&lt;Open&gt;</th>\n",
       "      <th>&lt;High&gt;</th>\n",
       "      <th>&lt;Low&gt;</th>\n",
       "      <th>&lt;Close&gt;</th>\n",
       "      <th>&lt;Volume&gt;</th>\n",
       "    </tr>\n",
       "  </thead>\n",
       "  <tbody>\n",
       "    <tr>\n",
       "      <th>0</th>\n",
       "      <td>CTG</td>\n",
       "      <td>20210219</td>\n",
       "      <td>37.0</td>\n",
       "      <td>37.50</td>\n",
       "      <td>36.1</td>\n",
       "      <td>37.0</td>\n",
       "      <td>12154600</td>\n",
       "    </tr>\n",
       "    <tr>\n",
       "      <th>1</th>\n",
       "      <td>CTG</td>\n",
       "      <td>20210218</td>\n",
       "      <td>36.8</td>\n",
       "      <td>37.05</td>\n",
       "      <td>36.3</td>\n",
       "      <td>36.8</td>\n",
       "      <td>10032300</td>\n",
       "    </tr>\n",
       "  </tbody>\n",
       "</table>\n",
       "</div>"
      ],
      "text/plain": [
       "  <Ticker>  <DTYYYYMMDD>  <Open>  <High>  <Low>  <Close>  <Volume>\n",
       "0      CTG      20210219    37.0   37.50   36.1     37.0  12154600\n",
       "1      CTG      20210218    36.8   37.05   36.3     36.8  10032300"
      ]
     },
     "execution_count": 20,
     "metadata": {},
     "output_type": "execute_result"
    }
   ],
   "source": [
    "# .copy(): This func 'copy' a new df which is the same as the original @-@\n",
    "df2= df.copy()\n",
    "df2.head(2)"
   ]
  },
  {
   "cell_type": "code",
   "execution_count": 9,
   "metadata": {},
   "outputs": [
    {
     "data": {
      "text/plain": [
       "Index(['<Ticker>', '<DTYYYYMMDD>', '<Open>', '<High>', '<Low>', '<Close>',\n",
       "       '<Volume>'],\n",
       "      dtype='object')"
      ]
     },
     "execution_count": 9,
     "metadata": {},
     "output_type": "execute_result"
    }
   ],
   "source": [
    "# .columns : This function returns the column names of the dataset\n",
    "df.columns"
   ]
  },
  {
   "cell_type": "code",
   "execution_count": 4,
   "metadata": {},
   "outputs": [],
   "source": [
    "# We can also set the names of the columns *-*\n",
    "df.columns = ['<Ticker>', '<Date>', '<Open>', '<High>', '<Low>', '<Close>',\n",
    "       '<Volume>']"
   ]
  },
  {
   "cell_type": "code",
   "execution_count": 11,
   "metadata": {},
   "outputs": [
    {
     "data": {
      "text/html": [
       "<div>\n",
       "<style scoped>\n",
       "    .dataframe tbody tr th:only-of-type {\n",
       "        vertical-align: middle;\n",
       "    }\n",
       "\n",
       "    .dataframe tbody tr th {\n",
       "        vertical-align: top;\n",
       "    }\n",
       "\n",
       "    .dataframe thead th {\n",
       "        text-align: right;\n",
       "    }\n",
       "</style>\n",
       "<table border=\"1\" class=\"dataframe\">\n",
       "  <thead>\n",
       "    <tr style=\"text-align: right;\">\n",
       "      <th></th>\n",
       "      <th>&lt;Ticker&gt;</th>\n",
       "      <th>&lt;Date&gt;</th>\n",
       "      <th>&lt;Open&gt;</th>\n",
       "      <th>&lt;High&gt;</th>\n",
       "      <th>&lt;Low&gt;</th>\n",
       "      <th>&lt;Close&gt;</th>\n",
       "      <th>&lt;Volume&gt;</th>\n",
       "    </tr>\n",
       "  </thead>\n",
       "  <tbody>\n",
       "    <tr>\n",
       "      <th>0</th>\n",
       "      <td>CTG</td>\n",
       "      <td>20210219</td>\n",
       "      <td>37.0</td>\n",
       "      <td>37.50</td>\n",
       "      <td>36.10</td>\n",
       "      <td>37.0</td>\n",
       "      <td>12154600</td>\n",
       "    </tr>\n",
       "    <tr>\n",
       "      <th>1</th>\n",
       "      <td>CTG</td>\n",
       "      <td>20210218</td>\n",
       "      <td>36.8</td>\n",
       "      <td>37.05</td>\n",
       "      <td>36.30</td>\n",
       "      <td>36.8</td>\n",
       "      <td>10032300</td>\n",
       "    </tr>\n",
       "    <tr>\n",
       "      <th>2</th>\n",
       "      <td>CTG</td>\n",
       "      <td>20210217</td>\n",
       "      <td>36.4</td>\n",
       "      <td>36.80</td>\n",
       "      <td>35.85</td>\n",
       "      <td>36.8</td>\n",
       "      <td>9896400</td>\n",
       "    </tr>\n",
       "  </tbody>\n",
       "</table>\n",
       "</div>"
      ],
      "text/plain": [
       "  <Ticker>    <Date>  <Open>  <High>  <Low>  <Close>  <Volume>\n",
       "0      CTG  20210219    37.0   37.50  36.10     37.0  12154600\n",
       "1      CTG  20210218    36.8   37.05  36.30     36.8  10032300\n",
       "2      CTG  20210217    36.4   36.80  35.85     36.8   9896400"
      ]
     },
     "execution_count": 11,
     "metadata": {},
     "output_type": "execute_result"
    }
   ],
   "source": [
    "df.head(3)  # amazing !!"
   ]
  },
  {
   "cell_type": "code",
   "execution_count": 46,
   "metadata": {},
   "outputs": [
    {
     "data": {
      "text/html": [
       "<div>\n",
       "<style scoped>\n",
       "    .dataframe tbody tr th:only-of-type {\n",
       "        vertical-align: middle;\n",
       "    }\n",
       "\n",
       "    .dataframe tbody tr th {\n",
       "        vertical-align: top;\n",
       "    }\n",
       "\n",
       "    .dataframe thead th {\n",
       "        text-align: right;\n",
       "    }\n",
       "</style>\n",
       "<table border=\"1\" class=\"dataframe\">\n",
       "  <thead>\n",
       "    <tr style=\"text-align: right;\">\n",
       "      <th></th>\n",
       "      <th>&lt;Date&gt;</th>\n",
       "      <th>&lt;Ticker&gt;</th>\n",
       "      <th>&lt;Open&gt;</th>\n",
       "      <th>&lt;High&gt;</th>\n",
       "      <th>&lt;Low&gt;</th>\n",
       "      <th>&lt;Close&gt;</th>\n",
       "      <th>&lt;Volume&gt;</th>\n",
       "    </tr>\n",
       "  </thead>\n",
       "  <tbody>\n",
       "    <tr>\n",
       "      <th>0</th>\n",
       "      <td>2021-02-19</td>\n",
       "      <td>CTG</td>\n",
       "      <td>37.0</td>\n",
       "      <td>37.50</td>\n",
       "      <td>36.10</td>\n",
       "      <td>37.0</td>\n",
       "      <td>12154600</td>\n",
       "    </tr>\n",
       "    <tr>\n",
       "      <th>1</th>\n",
       "      <td>2021-02-18</td>\n",
       "      <td>CTG</td>\n",
       "      <td>36.8</td>\n",
       "      <td>37.05</td>\n",
       "      <td>36.30</td>\n",
       "      <td>36.8</td>\n",
       "      <td>10032300</td>\n",
       "    </tr>\n",
       "    <tr>\n",
       "      <th>2</th>\n",
       "      <td>2021-02-17</td>\n",
       "      <td>CTG</td>\n",
       "      <td>36.4</td>\n",
       "      <td>36.80</td>\n",
       "      <td>35.85</td>\n",
       "      <td>36.8</td>\n",
       "      <td>9896400</td>\n",
       "    </tr>\n",
       "  </tbody>\n",
       "</table>\n",
       "</div>"
      ],
      "text/plain": [
       "      <Date> <Ticker>  <Open>  <High>  <Low>  <Close>  <Volume>\n",
       "0 2021-02-19      CTG    37.0   37.50  36.10     37.0  12154600\n",
       "1 2021-02-18      CTG    36.8   37.05  36.30     36.8  10032300\n",
       "2 2021-02-17      CTG    36.4   36.80  35.85     36.8   9896400"
      ]
     },
     "execution_count": 46,
     "metadata": {},
     "output_type": "execute_result"
    }
   ],
   "source": [
    "# How to change the format of date in our dataframe @-@\n",
    "# pd.to_datetime(X,format='%Y%m%d')\n",
    "df['<Date>']=pd.to_datetime(df['<Date>'],format='%Y%m%d')\n",
    "df.head(3)"
   ]
  },
  {
   "cell_type": "code",
   "execution_count": 56,
   "metadata": {},
   "outputs": [
    {
     "data": {
      "text/html": [
       "<div>\n",
       "<style scoped>\n",
       "    .dataframe tbody tr th:only-of-type {\n",
       "        vertical-align: middle;\n",
       "    }\n",
       "\n",
       "    .dataframe tbody tr th {\n",
       "        vertical-align: top;\n",
       "    }\n",
       "\n",
       "    .dataframe thead th {\n",
       "        text-align: right;\n",
       "    }\n",
       "</style>\n",
       "<table border=\"1\" class=\"dataframe\">\n",
       "  <thead>\n",
       "    <tr style=\"text-align: right;\">\n",
       "      <th></th>\n",
       "      <th>&lt;Date&gt;</th>\n",
       "      <th>&lt;Ticker&gt;</th>\n",
       "      <th>&lt;Open&gt;</th>\n",
       "      <th>&lt;High&gt;</th>\n",
       "      <th>&lt;Low&gt;</th>\n",
       "      <th>&lt;Close&gt;</th>\n",
       "      <th>&lt;Volume&gt;</th>\n",
       "      <th>High_low</th>\n",
       "    </tr>\n",
       "  </thead>\n",
       "  <tbody>\n",
       "    <tr>\n",
       "      <th>0</th>\n",
       "      <td>2021-02-19</td>\n",
       "      <td>CTG</td>\n",
       "      <td>37.0</td>\n",
       "      <td>37.50</td>\n",
       "      <td>36.10</td>\n",
       "      <td>37.0</td>\n",
       "      <td>12154600</td>\n",
       "      <td>1.40</td>\n",
       "    </tr>\n",
       "    <tr>\n",
       "      <th>1</th>\n",
       "      <td>2021-02-18</td>\n",
       "      <td>CTG</td>\n",
       "      <td>36.8</td>\n",
       "      <td>37.05</td>\n",
       "      <td>36.30</td>\n",
       "      <td>36.8</td>\n",
       "      <td>10032300</td>\n",
       "      <td>0.75</td>\n",
       "    </tr>\n",
       "    <tr>\n",
       "      <th>2</th>\n",
       "      <td>2021-02-17</td>\n",
       "      <td>CTG</td>\n",
       "      <td>36.4</td>\n",
       "      <td>36.80</td>\n",
       "      <td>35.85</td>\n",
       "      <td>36.8</td>\n",
       "      <td>9896400</td>\n",
       "      <td>0.95</td>\n",
       "    </tr>\n",
       "  </tbody>\n",
       "</table>\n",
       "</div>"
      ],
      "text/plain": [
       "      <Date> <Ticker>  <Open>  <High>  <Low>  <Close>  <Volume>  High_low\n",
       "0 2021-02-19      CTG    37.0   37.50  36.10     37.0  12154600      1.40\n",
       "1 2021-02-18      CTG    36.8   37.05  36.30     36.8  10032300      0.75\n",
       "2 2021-02-17      CTG    36.4   36.80  35.85     36.8   9896400      0.95"
      ]
     },
     "execution_count": 56,
     "metadata": {},
     "output_type": "execute_result"
    }
   ],
   "source": [
    "# What if we want to add a new column to our df @-@\n",
    "df['High_low']= High_Low\n",
    "df.head(3)"
   ]
  },
  {
   "cell_type": "code",
   "execution_count": 32,
   "metadata": {},
   "outputs": [],
   "source": [
    "# Now, after finishing all things, We might want to save the df to new csv file @-@\n",
    "# .to_csv(): This function export a new csv file to the same folder of this Jupiter note\n",
    "# For ex, I want to save only the open and closed price\n",
    "df[['<Open>','<Close>']].to_csv('new_df.csv')"
   ]
  },
  {
   "cell_type": "markdown",
   "metadata": {},
   "source": [
    "### SELECTING ROWS AND COLUMNS"
   ]
  },
  {
   "cell_type": "code",
   "execution_count": 1,
   "metadata": {},
   "outputs": [],
   "source": [
    "# []\n",
    "# .iloc[]\n",
    "# .loc[]"
   ]
  },
  {
   "cell_type": "code",
   "execution_count": 14,
   "metadata": {},
   "outputs": [
    {
     "data": {
      "text/plain": [
       "0    37.0\n",
       "1    36.8\n",
       "2    36.4\n",
       "Name: <Open>, dtype: float64"
      ]
     },
     "execution_count": 14,
     "metadata": {},
     "output_type": "execute_result"
    }
   ],
   "source": [
    "# We can index the columns of data by calling out the column name or list of column names @-@\n",
    "df['<Open>'].head(3)"
   ]
  },
  {
   "cell_type": "code",
   "execution_count": 17,
   "metadata": {},
   "outputs": [],
   "source": [
    "# remember that 1 column is 1 dimensional 'Series', while >=2 dimension is called 'Dataframe'"
   ]
  },
  {
   "cell_type": "code",
   "execution_count": 16,
   "metadata": {},
   "outputs": [
    {
     "data": {
      "text/html": [
       "<div>\n",
       "<style scoped>\n",
       "    .dataframe tbody tr th:only-of-type {\n",
       "        vertical-align: middle;\n",
       "    }\n",
       "\n",
       "    .dataframe tbody tr th {\n",
       "        vertical-align: top;\n",
       "    }\n",
       "\n",
       "    .dataframe thead th {\n",
       "        text-align: right;\n",
       "    }\n",
       "</style>\n",
       "<table border=\"1\" class=\"dataframe\">\n",
       "  <thead>\n",
       "    <tr style=\"text-align: right;\">\n",
       "      <th></th>\n",
       "      <th>&lt;Open&gt;</th>\n",
       "      <th>&lt;Close&gt;</th>\n",
       "    </tr>\n",
       "  </thead>\n",
       "  <tbody>\n",
       "    <tr>\n",
       "      <th>0</th>\n",
       "      <td>37.0</td>\n",
       "      <td>37.0</td>\n",
       "    </tr>\n",
       "    <tr>\n",
       "      <th>1</th>\n",
       "      <td>36.8</td>\n",
       "      <td>36.8</td>\n",
       "    </tr>\n",
       "    <tr>\n",
       "      <th>2</th>\n",
       "      <td>36.4</td>\n",
       "      <td>36.8</td>\n",
       "    </tr>\n",
       "  </tbody>\n",
       "</table>\n",
       "</div>"
      ],
      "text/plain": [
       "   <Open>  <Close>\n",
       "0    37.0     37.0\n",
       "1    36.8     36.8\n",
       "2    36.4     36.8"
      ]
     },
     "execution_count": 16,
     "metadata": {},
     "output_type": "execute_result"
    }
   ],
   "source": [
    "df[['<Open>','<Close>']].head(3)"
   ]
  },
  {
   "cell_type": "markdown",
   "metadata": {},
   "source": [
    "NOTE: Remember that, different from NUMPY, PANDAS use the [] to indicate the 'columns' instead of row"
   ]
  },
  {
   "cell_type": "code",
   "execution_count": 5,
   "metadata": {},
   "outputs": [
    {
     "data": {
      "text/html": [
       "<div>\n",
       "<style scoped>\n",
       "    .dataframe tbody tr th:only-of-type {\n",
       "        vertical-align: middle;\n",
       "    }\n",
       "\n",
       "    .dataframe tbody tr th {\n",
       "        vertical-align: top;\n",
       "    }\n",
       "\n",
       "    .dataframe thead th {\n",
       "        text-align: right;\n",
       "    }\n",
       "</style>\n",
       "<table border=\"1\" class=\"dataframe\">\n",
       "  <thead>\n",
       "    <tr style=\"text-align: right;\">\n",
       "      <th></th>\n",
       "      <th>&lt;Ticker&gt;</th>\n",
       "      <th>&lt;Date&gt;</th>\n",
       "      <th>&lt;Open&gt;</th>\n",
       "      <th>&lt;High&gt;</th>\n",
       "      <th>&lt;Low&gt;</th>\n",
       "      <th>&lt;Close&gt;</th>\n",
       "      <th>&lt;Volume&gt;</th>\n",
       "    </tr>\n",
       "  </thead>\n",
       "  <tbody>\n",
       "    <tr>\n",
       "      <th>5</th>\n",
       "      <td>CTG</td>\n",
       "      <td>20210205</td>\n",
       "      <td>34.95</td>\n",
       "      <td>35.80</td>\n",
       "      <td>34.75</td>\n",
       "      <td>35.8</td>\n",
       "      <td>8496700</td>\n",
       "    </tr>\n",
       "    <tr>\n",
       "      <th>6</th>\n",
       "      <td>CTG</td>\n",
       "      <td>20210204</td>\n",
       "      <td>34.80</td>\n",
       "      <td>35.05</td>\n",
       "      <td>34.25</td>\n",
       "      <td>34.7</td>\n",
       "      <td>9413200</td>\n",
       "    </tr>\n",
       "    <tr>\n",
       "      <th>7</th>\n",
       "      <td>CTG</td>\n",
       "      <td>20210203</td>\n",
       "      <td>34.50</td>\n",
       "      <td>35.25</td>\n",
       "      <td>34.00</td>\n",
       "      <td>34.9</td>\n",
       "      <td>10075600</td>\n",
       "    </tr>\n",
       "    <tr>\n",
       "      <th>8</th>\n",
       "      <td>CTG</td>\n",
       "      <td>20210202</td>\n",
       "      <td>31.80</td>\n",
       "      <td>34.00</td>\n",
       "      <td>31.70</td>\n",
       "      <td>33.9</td>\n",
       "      <td>7767300</td>\n",
       "    </tr>\n",
       "    <tr>\n",
       "      <th>9</th>\n",
       "      <td>CTG</td>\n",
       "      <td>20210201</td>\n",
       "      <td>31.80</td>\n",
       "      <td>32.60</td>\n",
       "      <td>31.50</td>\n",
       "      <td>32.0</td>\n",
       "      <td>12315100</td>\n",
       "    </tr>\n",
       "  </tbody>\n",
       "</table>\n",
       "</div>"
      ],
      "text/plain": [
       "  <Ticker>    <Date>  <Open>  <High>  <Low>  <Close>  <Volume>\n",
       "5      CTG  20210205   34.95   35.80  34.75     35.8   8496700\n",
       "6      CTG  20210204   34.80   35.05  34.25     34.7   9413200\n",
       "7      CTG  20210203   34.50   35.25  34.00     34.9  10075600\n",
       "8      CTG  20210202   31.80   34.00  31.70     33.9   7767300\n",
       "9      CTG  20210201   31.80   32.60  31.50     32.0  12315100"
      ]
     },
     "execution_count": 5,
     "metadata": {},
     "output_type": "execute_result"
    }
   ],
   "source": [
    "# So what about the row @-@\n",
    "# For ex, I want to select from 5th row to 9th row *-*\n",
    "df.iloc[5:10]  # Remember that iloc[] not count the last index 10 @-@"
   ]
  },
  {
   "cell_type": "code",
   "execution_count": 6,
   "metadata": {},
   "outputs": [
    {
     "data": {
      "text/html": [
       "<div>\n",
       "<style scoped>\n",
       "    .dataframe tbody tr th:only-of-type {\n",
       "        vertical-align: middle;\n",
       "    }\n",
       "\n",
       "    .dataframe tbody tr th {\n",
       "        vertical-align: top;\n",
       "    }\n",
       "\n",
       "    .dataframe thead th {\n",
       "        text-align: right;\n",
       "    }\n",
       "</style>\n",
       "<table border=\"1\" class=\"dataframe\">\n",
       "  <thead>\n",
       "    <tr style=\"text-align: right;\">\n",
       "      <th></th>\n",
       "      <th>&lt;Ticker&gt;</th>\n",
       "      <th>&lt;Date&gt;</th>\n",
       "      <th>&lt;Open&gt;</th>\n",
       "      <th>&lt;High&gt;</th>\n",
       "      <th>&lt;Low&gt;</th>\n",
       "      <th>&lt;Close&gt;</th>\n",
       "      <th>&lt;Volume&gt;</th>\n",
       "    </tr>\n",
       "  </thead>\n",
       "  <tbody>\n",
       "    <tr>\n",
       "      <th>5</th>\n",
       "      <td>CTG</td>\n",
       "      <td>20210205</td>\n",
       "      <td>34.95</td>\n",
       "      <td>35.80</td>\n",
       "      <td>34.75</td>\n",
       "      <td>35.8</td>\n",
       "      <td>8496700</td>\n",
       "    </tr>\n",
       "    <tr>\n",
       "      <th>6</th>\n",
       "      <td>CTG</td>\n",
       "      <td>20210204</td>\n",
       "      <td>34.80</td>\n",
       "      <td>35.05</td>\n",
       "      <td>34.25</td>\n",
       "      <td>34.7</td>\n",
       "      <td>9413200</td>\n",
       "    </tr>\n",
       "    <tr>\n",
       "      <th>7</th>\n",
       "      <td>CTG</td>\n",
       "      <td>20210203</td>\n",
       "      <td>34.50</td>\n",
       "      <td>35.25</td>\n",
       "      <td>34.00</td>\n",
       "      <td>34.9</td>\n",
       "      <td>10075600</td>\n",
       "    </tr>\n",
       "    <tr>\n",
       "      <th>8</th>\n",
       "      <td>CTG</td>\n",
       "      <td>20210202</td>\n",
       "      <td>31.80</td>\n",
       "      <td>34.00</td>\n",
       "      <td>31.70</td>\n",
       "      <td>33.9</td>\n",
       "      <td>7767300</td>\n",
       "    </tr>\n",
       "    <tr>\n",
       "      <th>9</th>\n",
       "      <td>CTG</td>\n",
       "      <td>20210201</td>\n",
       "      <td>31.80</td>\n",
       "      <td>32.60</td>\n",
       "      <td>31.50</td>\n",
       "      <td>32.0</td>\n",
       "      <td>12315100</td>\n",
       "    </tr>\n",
       "    <tr>\n",
       "      <th>10</th>\n",
       "      <td>CTG</td>\n",
       "      <td>20210129</td>\n",
       "      <td>28.80</td>\n",
       "      <td>32.40</td>\n",
       "      <td>28.80</td>\n",
       "      <td>30.5</td>\n",
       "      <td>14819400</td>\n",
       "    </tr>\n",
       "  </tbody>\n",
       "</table>\n",
       "</div>"
      ],
      "text/plain": [
       "   <Ticker>    <Date>  <Open>  <High>  <Low>  <Close>  <Volume>\n",
       "5       CTG  20210205   34.95   35.80  34.75     35.8   8496700\n",
       "6       CTG  20210204   34.80   35.05  34.25     34.7   9413200\n",
       "7       CTG  20210203   34.50   35.25  34.00     34.9  10075600\n",
       "8       CTG  20210202   31.80   34.00  31.70     33.9   7767300\n",
       "9       CTG  20210201   31.80   32.60  31.50     32.0  12315100\n",
       "10      CTG  20210129   28.80   32.40  28.80     30.5  14819400"
      ]
     },
     "execution_count": 6,
     "metadata": {},
     "output_type": "execute_result"
    }
   ],
   "source": [
    "# We can also use loc[] instead of iloc[]\n",
    "df.loc[5:10]   # Different from iloc[], loc[] function count the last index @-@, why???"
   ]
  },
  {
   "cell_type": "markdown",
   "metadata": {},
   "source": [
    "NOTE: \n",
    "    \n",
    "    iloc[] used to extract the row based on integers only\n",
    "    \n",
    "    loc[] based on the index of dataframe, not on the order of the row "
   ]
  },
  {
   "cell_type": "code",
   "execution_count": 38,
   "metadata": {},
   "outputs": [
    {
     "data": {
      "text/html": [
       "<div>\n",
       "<style scoped>\n",
       "    .dataframe tbody tr th:only-of-type {\n",
       "        vertical-align: middle;\n",
       "    }\n",
       "\n",
       "    .dataframe tbody tr th {\n",
       "        vertical-align: top;\n",
       "    }\n",
       "\n",
       "    .dataframe thead th {\n",
       "        text-align: right;\n",
       "    }\n",
       "</style>\n",
       "<table border=\"1\" class=\"dataframe\">\n",
       "  <thead>\n",
       "    <tr style=\"text-align: right;\">\n",
       "      <th></th>\n",
       "      <th>&lt;Ticker&gt;</th>\n",
       "      <th>&lt;Open&gt;</th>\n",
       "      <th>&lt;High&gt;</th>\n",
       "      <th>&lt;Low&gt;</th>\n",
       "      <th>&lt;Close&gt;</th>\n",
       "      <th>&lt;Volume&gt;</th>\n",
       "    </tr>\n",
       "    <tr>\n",
       "      <th>&lt;Date&gt;</th>\n",
       "      <th></th>\n",
       "      <th></th>\n",
       "      <th></th>\n",
       "      <th></th>\n",
       "      <th></th>\n",
       "      <th></th>\n",
       "    </tr>\n",
       "  </thead>\n",
       "  <tbody>\n",
       "    <tr>\n",
       "      <th>20210219</th>\n",
       "      <td>CTG</td>\n",
       "      <td>37.0</td>\n",
       "      <td>37.50</td>\n",
       "      <td>36.10</td>\n",
       "      <td>37.0</td>\n",
       "      <td>12154600</td>\n",
       "    </tr>\n",
       "    <tr>\n",
       "      <th>20210218</th>\n",
       "      <td>CTG</td>\n",
       "      <td>36.8</td>\n",
       "      <td>37.05</td>\n",
       "      <td>36.30</td>\n",
       "      <td>36.8</td>\n",
       "      <td>10032300</td>\n",
       "    </tr>\n",
       "    <tr>\n",
       "      <th>20210217</th>\n",
       "      <td>CTG</td>\n",
       "      <td>36.4</td>\n",
       "      <td>36.80</td>\n",
       "      <td>35.85</td>\n",
       "      <td>36.8</td>\n",
       "      <td>9896400</td>\n",
       "    </tr>\n",
       "  </tbody>\n",
       "</table>\n",
       "</div>"
      ],
      "text/plain": [
       "         <Ticker>  <Open>  <High>  <Low>  <Close>  <Volume>\n",
       "<Date>                                                     \n",
       "20210219      CTG    37.0   37.50  36.10     37.0  12154600\n",
       "20210218      CTG    36.8   37.05  36.30     36.8  10032300\n",
       "20210217      CTG    36.4   36.80  35.85     36.8   9896400"
      ]
     },
     "execution_count": 38,
     "metadata": {},
     "output_type": "execute_result"
    }
   ],
   "source": [
    "# To demonstrate the difference, lets set the index to our df @-@\n",
    "# df.set_index('column') : This function is used to set the index of our df\n",
    "\n",
    "df.set_index('<Date>',inplace=True)\n",
    "df.head(3)"
   ]
  },
  {
   "cell_type": "code",
   "execution_count": 39,
   "metadata": {},
   "outputs": [],
   "source": [
    "# We can also remove the index of df, @-@\n",
    "# .reset_index()\n",
    "df.reset_index(inplace=True)"
   ]
  },
  {
   "cell_type": "code",
   "execution_count": 11,
   "metadata": {},
   "outputs": [
    {
     "data": {
      "text/html": [
       "<div>\n",
       "<style scoped>\n",
       "    .dataframe tbody tr th:only-of-type {\n",
       "        vertical-align: middle;\n",
       "    }\n",
       "\n",
       "    .dataframe tbody tr th {\n",
       "        vertical-align: top;\n",
       "    }\n",
       "\n",
       "    .dataframe thead th {\n",
       "        text-align: right;\n",
       "    }\n",
       "</style>\n",
       "<table border=\"1\" class=\"dataframe\">\n",
       "  <thead>\n",
       "    <tr style=\"text-align: right;\">\n",
       "      <th></th>\n",
       "      <th>&lt;Ticker&gt;</th>\n",
       "      <th>&lt;Open&gt;</th>\n",
       "      <th>&lt;High&gt;</th>\n",
       "      <th>&lt;Low&gt;</th>\n",
       "      <th>&lt;Close&gt;</th>\n",
       "      <th>&lt;Volume&gt;</th>\n",
       "    </tr>\n",
       "    <tr>\n",
       "      <th>&lt;DTYYYYMMDD&gt;</th>\n",
       "      <th></th>\n",
       "      <th></th>\n",
       "      <th></th>\n",
       "      <th></th>\n",
       "      <th></th>\n",
       "      <th></th>\n",
       "    </tr>\n",
       "  </thead>\n",
       "  <tbody>\n",
       "    <tr>\n",
       "      <th>20210219</th>\n",
       "      <td>CTG</td>\n",
       "      <td>37.0</td>\n",
       "      <td>37.50</td>\n",
       "      <td>36.1</td>\n",
       "      <td>37.0</td>\n",
       "      <td>12154600</td>\n",
       "    </tr>\n",
       "    <tr>\n",
       "      <th>20210218</th>\n",
       "      <td>CTG</td>\n",
       "      <td>36.8</td>\n",
       "      <td>37.05</td>\n",
       "      <td>36.3</td>\n",
       "      <td>36.8</td>\n",
       "      <td>10032300</td>\n",
       "    </tr>\n",
       "  </tbody>\n",
       "</table>\n",
       "</div>"
      ],
      "text/plain": [
       "             <Ticker>  <Open>  <High>  <Low>  <Close>  <Volume>\n",
       "<DTYYYYMMDD>                                                   \n",
       "20210219          CTG    37.0   37.50   36.1     37.0  12154600\n",
       "20210218          CTG    36.8   37.05   36.3     36.8  10032300"
      ]
     },
     "execution_count": 11,
     "metadata": {},
     "output_type": "execute_result"
    }
   ],
   "source": [
    "# There is alternative way to set index at initial steps when we read the df @-@\n",
    "# Remember that there is a parameter index_col in pd.read_csv() @-@\n",
    "df2=pd.read_csv('C:/Users/Win 10/Documents/RISKY PORTFOLIO/excel_ctg.csv', index_col='<DTYYYYMMDD>')\n",
    "df2.head(2)"
   ]
  },
  {
   "cell_type": "code",
   "execution_count": 13,
   "metadata": {},
   "outputs": [
    {
     "data": {
      "text/html": [
       "<div>\n",
       "<style scoped>\n",
       "    .dataframe tbody tr th:only-of-type {\n",
       "        vertical-align: middle;\n",
       "    }\n",
       "\n",
       "    .dataframe tbody tr th {\n",
       "        vertical-align: top;\n",
       "    }\n",
       "\n",
       "    .dataframe thead th {\n",
       "        text-align: right;\n",
       "    }\n",
       "</style>\n",
       "<table border=\"1\" class=\"dataframe\">\n",
       "  <thead>\n",
       "    <tr style=\"text-align: right;\">\n",
       "      <th></th>\n",
       "      <th>&lt;Ticker&gt;</th>\n",
       "      <th>&lt;Open&gt;</th>\n",
       "      <th>&lt;High&gt;</th>\n",
       "      <th>&lt;Low&gt;</th>\n",
       "      <th>&lt;Close&gt;</th>\n",
       "      <th>&lt;Volume&gt;</th>\n",
       "    </tr>\n",
       "    <tr>\n",
       "      <th>&lt;Date&gt;</th>\n",
       "      <th></th>\n",
       "      <th></th>\n",
       "      <th></th>\n",
       "      <th></th>\n",
       "      <th></th>\n",
       "      <th></th>\n",
       "    </tr>\n",
       "  </thead>\n",
       "  <tbody>\n",
       "    <tr>\n",
       "      <th>20210205</th>\n",
       "      <td>CTG</td>\n",
       "      <td>34.95</td>\n",
       "      <td>35.80</td>\n",
       "      <td>34.75</td>\n",
       "      <td>35.8</td>\n",
       "      <td>8496700</td>\n",
       "    </tr>\n",
       "    <tr>\n",
       "      <th>20210204</th>\n",
       "      <td>CTG</td>\n",
       "      <td>34.80</td>\n",
       "      <td>35.05</td>\n",
       "      <td>34.25</td>\n",
       "      <td>34.7</td>\n",
       "      <td>9413200</td>\n",
       "    </tr>\n",
       "    <tr>\n",
       "      <th>20210203</th>\n",
       "      <td>CTG</td>\n",
       "      <td>34.50</td>\n",
       "      <td>35.25</td>\n",
       "      <td>34.00</td>\n",
       "      <td>34.9</td>\n",
       "      <td>10075600</td>\n",
       "    </tr>\n",
       "    <tr>\n",
       "      <th>20210202</th>\n",
       "      <td>CTG</td>\n",
       "      <td>31.80</td>\n",
       "      <td>34.00</td>\n",
       "      <td>31.70</td>\n",
       "      <td>33.9</td>\n",
       "      <td>7767300</td>\n",
       "    </tr>\n",
       "    <tr>\n",
       "      <th>20210201</th>\n",
       "      <td>CTG</td>\n",
       "      <td>31.80</td>\n",
       "      <td>32.60</td>\n",
       "      <td>31.50</td>\n",
       "      <td>32.0</td>\n",
       "      <td>12315100</td>\n",
       "    </tr>\n",
       "  </tbody>\n",
       "</table>\n",
       "</div>"
      ],
      "text/plain": [
       "         <Ticker>  <Open>  <High>  <Low>  <Close>  <Volume>\n",
       "<Date>                                                     \n",
       "20210205      CTG   34.95   35.80  34.75     35.8   8496700\n",
       "20210204      CTG   34.80   35.05  34.25     34.7   9413200\n",
       "20210203      CTG   34.50   35.25  34.00     34.9  10075600\n",
       "20210202      CTG   31.80   34.00  31.70     33.9   7767300\n",
       "20210201      CTG   31.80   32.60  31.50     32.0  12315100"
      ]
     },
     "execution_count": 13,
     "metadata": {},
     "output_type": "execute_result"
    }
   ],
   "source": [
    "# Now, lets check iloc and loc @-@\n",
    "df.iloc[5:10]"
   ]
  },
  {
   "cell_type": "code",
   "execution_count": 14,
   "metadata": {},
   "outputs": [
    {
     "data": {
      "text/html": [
       "<div>\n",
       "<style scoped>\n",
       "    .dataframe tbody tr th:only-of-type {\n",
       "        vertical-align: middle;\n",
       "    }\n",
       "\n",
       "    .dataframe tbody tr th {\n",
       "        vertical-align: top;\n",
       "    }\n",
       "\n",
       "    .dataframe thead th {\n",
       "        text-align: right;\n",
       "    }\n",
       "</style>\n",
       "<table border=\"1\" class=\"dataframe\">\n",
       "  <thead>\n",
       "    <tr style=\"text-align: right;\">\n",
       "      <th></th>\n",
       "      <th>&lt;Ticker&gt;</th>\n",
       "      <th>&lt;Open&gt;</th>\n",
       "      <th>&lt;High&gt;</th>\n",
       "      <th>&lt;Low&gt;</th>\n",
       "      <th>&lt;Close&gt;</th>\n",
       "      <th>&lt;Volume&gt;</th>\n",
       "    </tr>\n",
       "    <tr>\n",
       "      <th>&lt;Date&gt;</th>\n",
       "      <th></th>\n",
       "      <th></th>\n",
       "      <th></th>\n",
       "      <th></th>\n",
       "      <th></th>\n",
       "      <th></th>\n",
       "    </tr>\n",
       "  </thead>\n",
       "  <tbody>\n",
       "  </tbody>\n",
       "</table>\n",
       "</div>"
      ],
      "text/plain": [
       "Empty DataFrame\n",
       "Columns: [<Ticker>, <Open>, <High>, <Low>, <Close>, <Volume>]\n",
       "Index: []"
      ]
     },
     "execution_count": 14,
     "metadata": {},
     "output_type": "execute_result"
    }
   ],
   "source": [
    "df.loc[5:10]  # Since in our Date index, there is no value from 5 to 10 @-@"
   ]
  },
  {
   "cell_type": "code",
   "execution_count": 22,
   "metadata": {},
   "outputs": [
    {
     "data": {
      "text/plain": [
       "<Ticker>         CTG\n",
       "<Open>          31.8\n",
       "<High>          32.6\n",
       "<Low>           31.5\n",
       "<Close>           32\n",
       "<Volume>    12315100\n",
       "Name: 20210201, dtype: object"
      ]
     },
     "execution_count": 22,
     "metadata": {},
     "output_type": "execute_result"
    }
   ],
   "source": [
    "df.loc[20210201]"
   ]
  },
  {
   "cell_type": "code",
   "execution_count": 21,
   "metadata": {},
   "outputs": [
    {
     "data": {
      "text/html": [
       "<div>\n",
       "<style scoped>\n",
       "    .dataframe tbody tr th:only-of-type {\n",
       "        vertical-align: middle;\n",
       "    }\n",
       "\n",
       "    .dataframe tbody tr th {\n",
       "        vertical-align: top;\n",
       "    }\n",
       "\n",
       "    .dataframe thead th {\n",
       "        text-align: right;\n",
       "    }\n",
       "</style>\n",
       "<table border=\"1\" class=\"dataframe\">\n",
       "  <thead>\n",
       "    <tr style=\"text-align: right;\">\n",
       "      <th></th>\n",
       "      <th>&lt;Ticker&gt;</th>\n",
       "      <th>&lt;Open&gt;</th>\n",
       "      <th>&lt;High&gt;</th>\n",
       "      <th>&lt;Low&gt;</th>\n",
       "      <th>&lt;Close&gt;</th>\n",
       "      <th>&lt;Volume&gt;</th>\n",
       "    </tr>\n",
       "    <tr>\n",
       "      <th>&lt;Date&gt;</th>\n",
       "      <th></th>\n",
       "      <th></th>\n",
       "      <th></th>\n",
       "      <th></th>\n",
       "      <th></th>\n",
       "      <th></th>\n",
       "    </tr>\n",
       "  </thead>\n",
       "  <tbody>\n",
       "    <tr>\n",
       "      <th>20210205</th>\n",
       "      <td>CTG</td>\n",
       "      <td>34.95</td>\n",
       "      <td>35.80</td>\n",
       "      <td>34.75</td>\n",
       "      <td>35.8</td>\n",
       "      <td>8496700</td>\n",
       "    </tr>\n",
       "    <tr>\n",
       "      <th>20210204</th>\n",
       "      <td>CTG</td>\n",
       "      <td>34.80</td>\n",
       "      <td>35.05</td>\n",
       "      <td>34.25</td>\n",
       "      <td>34.7</td>\n",
       "      <td>9413200</td>\n",
       "    </tr>\n",
       "    <tr>\n",
       "      <th>20210203</th>\n",
       "      <td>CTG</td>\n",
       "      <td>34.50</td>\n",
       "      <td>35.25</td>\n",
       "      <td>34.00</td>\n",
       "      <td>34.9</td>\n",
       "      <td>10075600</td>\n",
       "    </tr>\n",
       "  </tbody>\n",
       "</table>\n",
       "</div>"
      ],
      "text/plain": [
       "         <Ticker>  <Open>  <High>  <Low>  <Close>  <Volume>\n",
       "<Date>                                                     \n",
       "20210205      CTG   34.95   35.80  34.75     35.8   8496700\n",
       "20210204      CTG   34.80   35.05  34.25     34.7   9413200\n",
       "20210203      CTG   34.50   35.25  34.00     34.9  10075600"
      ]
     },
     "execution_count": 21,
     "metadata": {},
     "output_type": "execute_result"
    }
   ],
   "source": [
    "df.loc[[20210205,20210204,20210203]]"
   ]
  },
  {
   "cell_type": "code",
   "execution_count": 27,
   "metadata": {},
   "outputs": [
    {
     "data": {
      "text/html": [
       "<div>\n",
       "<style scoped>\n",
       "    .dataframe tbody tr th:only-of-type {\n",
       "        vertical-align: middle;\n",
       "    }\n",
       "\n",
       "    .dataframe tbody tr th {\n",
       "        vertical-align: top;\n",
       "    }\n",
       "\n",
       "    .dataframe thead th {\n",
       "        text-align: right;\n",
       "    }\n",
       "</style>\n",
       "<table border=\"1\" class=\"dataframe\">\n",
       "  <thead>\n",
       "    <tr style=\"text-align: right;\">\n",
       "      <th></th>\n",
       "      <th>&lt;Ticker&gt;</th>\n",
       "      <th>&lt;Open&gt;</th>\n",
       "      <th>&lt;High&gt;</th>\n",
       "      <th>&lt;Low&gt;</th>\n",
       "      <th>&lt;Close&gt;</th>\n",
       "      <th>&lt;Volume&gt;</th>\n",
       "    </tr>\n",
       "    <tr>\n",
       "      <th>&lt;Date&gt;</th>\n",
       "      <th></th>\n",
       "      <th></th>\n",
       "      <th></th>\n",
       "      <th></th>\n",
       "      <th></th>\n",
       "      <th></th>\n",
       "    </tr>\n",
       "  </thead>\n",
       "  <tbody>\n",
       "    <tr>\n",
       "      <th>20210122</th>\n",
       "      <td>CTG</td>\n",
       "      <td>36.9500</td>\n",
       "      <td>38.3000</td>\n",
       "      <td>36.7000</td>\n",
       "      <td>37.6000</td>\n",
       "      <td>11333200</td>\n",
       "    </tr>\n",
       "    <tr>\n",
       "      <th>20210118</th>\n",
       "      <td>CTG</td>\n",
       "      <td>39.6000</td>\n",
       "      <td>39.8500</td>\n",
       "      <td>38.6000</td>\n",
       "      <td>38.6000</td>\n",
       "      <td>7197000</td>\n",
       "    </tr>\n",
       "    <tr>\n",
       "      <th>20210115</th>\n",
       "      <td>CTG</td>\n",
       "      <td>39.5000</td>\n",
       "      <td>40.1000</td>\n",
       "      <td>39.3000</td>\n",
       "      <td>39.5000</td>\n",
       "      <td>11321800</td>\n",
       "    </tr>\n",
       "    <tr>\n",
       "      <th>20210114</th>\n",
       "      <td>CTG</td>\n",
       "      <td>39.0000</td>\n",
       "      <td>39.3500</td>\n",
       "      <td>38.5000</td>\n",
       "      <td>39.1500</td>\n",
       "      <td>8275700</td>\n",
       "    </tr>\n",
       "    <tr>\n",
       "      <th>20210113</th>\n",
       "      <td>CTG</td>\n",
       "      <td>38.6500</td>\n",
       "      <td>39.4500</td>\n",
       "      <td>38.5000</td>\n",
       "      <td>38.6500</td>\n",
       "      <td>9063900</td>\n",
       "    </tr>\n",
       "    <tr>\n",
       "      <th>20210112</th>\n",
       "      <td>CTG</td>\n",
       "      <td>38.7000</td>\n",
       "      <td>38.9000</td>\n",
       "      <td>38.1000</td>\n",
       "      <td>38.5000</td>\n",
       "      <td>9154200</td>\n",
       "    </tr>\n",
       "    <tr>\n",
       "      <th>20210111</th>\n",
       "      <td>CTG</td>\n",
       "      <td>38.9000</td>\n",
       "      <td>39.6000</td>\n",
       "      <td>38.6000</td>\n",
       "      <td>38.7000</td>\n",
       "      <td>10911700</td>\n",
       "    </tr>\n",
       "    <tr>\n",
       "      <th>20210108</th>\n",
       "      <td>CTG</td>\n",
       "      <td>39.5000</td>\n",
       "      <td>39.5000</td>\n",
       "      <td>38.5000</td>\n",
       "      <td>38.7000</td>\n",
       "      <td>8380100</td>\n",
       "    </tr>\n",
       "    <tr>\n",
       "      <th>20210107</th>\n",
       "      <td>CTG</td>\n",
       "      <td>38.5000</td>\n",
       "      <td>39.6500</td>\n",
       "      <td>38.4000</td>\n",
       "      <td>38.8500</td>\n",
       "      <td>10679600</td>\n",
       "    </tr>\n",
       "    <tr>\n",
       "      <th>20210106</th>\n",
       "      <td>CTG</td>\n",
       "      <td>36.0000</td>\n",
       "      <td>37.8500</td>\n",
       "      <td>35.7000</td>\n",
       "      <td>37.8500</td>\n",
       "      <td>15419900</td>\n",
       "    </tr>\n",
       "    <tr>\n",
       "      <th>20180409</th>\n",
       "      <td>CTG</td>\n",
       "      <td>35.3939</td>\n",
       "      <td>37.1685</td>\n",
       "      <td>35.0981</td>\n",
       "      <td>37.1685</td>\n",
       "      <td>12738930</td>\n",
       "    </tr>\n",
       "  </tbody>\n",
       "</table>\n",
       "</div>"
      ],
      "text/plain": [
       "         <Ticker>   <Open>   <High>    <Low>  <Close>  <Volume>\n",
       "<Date>                                                         \n",
       "20210122      CTG  36.9500  38.3000  36.7000  37.6000  11333200\n",
       "20210118      CTG  39.6000  39.8500  38.6000  38.6000   7197000\n",
       "20210115      CTG  39.5000  40.1000  39.3000  39.5000  11321800\n",
       "20210114      CTG  39.0000  39.3500  38.5000  39.1500   8275700\n",
       "20210113      CTG  38.6500  39.4500  38.5000  38.6500   9063900\n",
       "20210112      CTG  38.7000  38.9000  38.1000  38.5000   9154200\n",
       "20210111      CTG  38.9000  39.6000  38.6000  38.7000  10911700\n",
       "20210108      CTG  39.5000  39.5000  38.5000  38.7000   8380100\n",
       "20210107      CTG  38.5000  39.6500  38.4000  38.8500  10679600\n",
       "20210106      CTG  36.0000  37.8500  35.7000  37.8500  15419900\n",
       "20180409      CTG  35.3939  37.1685  35.0981  37.1685  12738930"
      ]
     },
     "execution_count": 27,
     "metadata": {},
     "output_type": "execute_result"
    }
   ],
   "source": [
    "# Uhm, the question is, how can I select multiple rows based on some condition of attributes @-@\n",
    "# For ex, I want to find all the row with closed price >37\n",
    "df[df['<Close>']>37]  # AMAZING!!"
   ]
  },
  {
   "cell_type": "code",
   "execution_count": 29,
   "metadata": {},
   "outputs": [
    {
     "data": {
      "text/html": [
       "<div>\n",
       "<style scoped>\n",
       "    .dataframe tbody tr th:only-of-type {\n",
       "        vertical-align: middle;\n",
       "    }\n",
       "\n",
       "    .dataframe tbody tr th {\n",
       "        vertical-align: top;\n",
       "    }\n",
       "\n",
       "    .dataframe thead th {\n",
       "        text-align: right;\n",
       "    }\n",
       "</style>\n",
       "<table border=\"1\" class=\"dataframe\">\n",
       "  <thead>\n",
       "    <tr style=\"text-align: right;\">\n",
       "      <th></th>\n",
       "      <th>&lt;Ticker&gt;</th>\n",
       "      <th>&lt;Open&gt;</th>\n",
       "      <th>&lt;High&gt;</th>\n",
       "      <th>&lt;Low&gt;</th>\n",
       "      <th>&lt;Close&gt;</th>\n",
       "      <th>&lt;Volume&gt;</th>\n",
       "    </tr>\n",
       "    <tr>\n",
       "      <th>&lt;Date&gt;</th>\n",
       "      <th></th>\n",
       "      <th></th>\n",
       "      <th></th>\n",
       "      <th></th>\n",
       "      <th></th>\n",
       "      <th></th>\n",
       "    </tr>\n",
       "  </thead>\n",
       "  <tbody>\n",
       "    <tr>\n",
       "      <th>20210219</th>\n",
       "      <td>CTG</td>\n",
       "      <td>37.0000</td>\n",
       "      <td>37.5000</td>\n",
       "      <td>36.1000</td>\n",
       "      <td>37.0000</td>\n",
       "      <td>12154600</td>\n",
       "    </tr>\n",
       "    <tr>\n",
       "      <th>20210218</th>\n",
       "      <td>CTG</td>\n",
       "      <td>36.8000</td>\n",
       "      <td>37.0500</td>\n",
       "      <td>36.3000</td>\n",
       "      <td>36.8000</td>\n",
       "      <td>10032300</td>\n",
       "    </tr>\n",
       "    <tr>\n",
       "      <th>20210125</th>\n",
       "      <td>CTG</td>\n",
       "      <td>37.3000</td>\n",
       "      <td>37.5500</td>\n",
       "      <td>36.5000</td>\n",
       "      <td>36.8000</td>\n",
       "      <td>6580500</td>\n",
       "    </tr>\n",
       "    <tr>\n",
       "      <th>20180410</th>\n",
       "      <td>CTG</td>\n",
       "      <td>37.4643</td>\n",
       "      <td>37.7107</td>\n",
       "      <td>36.5277</td>\n",
       "      <td>36.7741</td>\n",
       "      <td>6795480</td>\n",
       "    </tr>\n",
       "  </tbody>\n",
       "</table>\n",
       "</div>"
      ],
      "text/plain": [
       "         <Ticker>   <Open>   <High>    <Low>  <Close>  <Volume>\n",
       "<Date>                                                         \n",
       "20210219      CTG  37.0000  37.5000  36.1000  37.0000  12154600\n",
       "20210218      CTG  36.8000  37.0500  36.3000  36.8000  10032300\n",
       "20210125      CTG  37.3000  37.5500  36.5000  36.8000   6580500\n",
       "20180410      CTG  37.4643  37.7107  36.5277  36.7741   6795480"
      ]
     },
     "execution_count": 29,
     "metadata": {},
     "output_type": "execute_result"
    }
   ],
   "source": [
    "# What about multiple conditions of the attributes @-@\n",
    "df[(df['<High>']<38) & (df['<Low>']>36)]   # AMAZING!!"
   ]
  },
  {
   "cell_type": "markdown",
   "metadata": {},
   "source": [
    "NOTE: Since we are extracting rows based on 'conditions', hence the object inside the [] is Boolean values (T/F)"
   ]
  },
  {
   "cell_type": "markdown",
   "metadata": {},
   "source": [
    "NOTE: \n",
    "    \n",
    "    Remember that is pandas, each row and each column of dataframe is recorded as type 'SERIES'"
   ]
  },
  {
   "cell_type": "code",
   "execution_count": 24,
   "metadata": {},
   "outputs": [
    {
     "data": {
      "text/plain": [
       "pandas.core.series.Series"
      ]
     },
     "execution_count": 24,
     "metadata": {},
     "output_type": "execute_result"
    }
   ],
   "source": [
    "type(df['<Open>'])"
   ]
  },
  {
   "cell_type": "code",
   "execution_count": 25,
   "metadata": {},
   "outputs": [
    {
     "data": {
      "text/plain": [
       "pandas.core.series.Series"
      ]
     },
     "execution_count": 25,
     "metadata": {},
     "output_type": "execute_result"
    }
   ],
   "source": [
    "type(df.iloc[3])"
   ]
  },
  {
   "cell_type": "code",
   "execution_count": null,
   "metadata": {},
   "outputs": [],
   "source": []
  },
  {
   "cell_type": "code",
   "execution_count": 30,
   "metadata": {},
   "outputs": [
    {
     "data": {
      "text/plain": [
       "array([['CTG', 37.0, 37.5, 36.1, 37.0, 12154600],\n",
       "       ['CTG', 36.8, 37.05, 36.3, 36.8, 10032300],\n",
       "       ['CTG', 36.4, 36.8, 35.85, 36.8, 9896400],\n",
       "       ['CTG', 34.45, 35.45, 34.0, 35.4, 8069900],\n",
       "       ['CTG', 34.05, 36.1, 33.9, 34.05, 12845300]], dtype=object)"
      ]
     },
     "execution_count": 30,
     "metadata": {},
     "output_type": "execute_result"
    }
   ],
   "source": [
    "# How can we convert dataframe into numpy array ???\n",
    "# .value()\n",
    "df.head().values"
   ]
  },
  {
   "cell_type": "markdown",
   "metadata": {},
   "source": [
    "### APPLY FUNCTION"
   ]
  },
  {
   "cell_type": "markdown",
   "metadata": {},
   "source": [
    "NOTE:\n",
    "    \n",
    "    Since the for loop in Python is considerably slow, we will try to avoid it as much as possible @-@\n",
    "    \n",
    "    The apply() function is very useful in case we want to apply a specific function to each row of the df"
   ]
  },
  {
   "cell_type": "code",
   "execution_count": 50,
   "metadata": {},
   "outputs": [],
   "source": [
    "# First, lets generate a function @-@\n",
    "def high_low(row):\n",
    "    delta= row['<High>']-row['<Low>']\n",
    "    return delta"
   ]
  },
  {
   "cell_type": "code",
   "execution_count": 52,
   "metadata": {},
   "outputs": [
    {
     "data": {
      "text/html": [
       "<div>\n",
       "<style scoped>\n",
       "    .dataframe tbody tr th:only-of-type {\n",
       "        vertical-align: middle;\n",
       "    }\n",
       "\n",
       "    .dataframe tbody tr th {\n",
       "        vertical-align: top;\n",
       "    }\n",
       "\n",
       "    .dataframe thead th {\n",
       "        text-align: right;\n",
       "    }\n",
       "</style>\n",
       "<table border=\"1\" class=\"dataframe\">\n",
       "  <thead>\n",
       "    <tr style=\"text-align: right;\">\n",
       "      <th></th>\n",
       "      <th>&lt;Date&gt;</th>\n",
       "      <th>&lt;Ticker&gt;</th>\n",
       "      <th>&lt;Open&gt;</th>\n",
       "      <th>&lt;High&gt;</th>\n",
       "      <th>&lt;Low&gt;</th>\n",
       "      <th>&lt;Close&gt;</th>\n",
       "      <th>&lt;Volume&gt;</th>\n",
       "    </tr>\n",
       "  </thead>\n",
       "  <tbody>\n",
       "    <tr>\n",
       "      <th>0</th>\n",
       "      <td>2021-02-19</td>\n",
       "      <td>CTG</td>\n",
       "      <td>37.00</td>\n",
       "      <td>37.50</td>\n",
       "      <td>36.10</td>\n",
       "      <td>37.00</td>\n",
       "      <td>12154600</td>\n",
       "    </tr>\n",
       "    <tr>\n",
       "      <th>1</th>\n",
       "      <td>2021-02-18</td>\n",
       "      <td>CTG</td>\n",
       "      <td>36.80</td>\n",
       "      <td>37.05</td>\n",
       "      <td>36.30</td>\n",
       "      <td>36.80</td>\n",
       "      <td>10032300</td>\n",
       "    </tr>\n",
       "    <tr>\n",
       "      <th>2</th>\n",
       "      <td>2021-02-17</td>\n",
       "      <td>CTG</td>\n",
       "      <td>36.40</td>\n",
       "      <td>36.80</td>\n",
       "      <td>35.85</td>\n",
       "      <td>36.80</td>\n",
       "      <td>9896400</td>\n",
       "    </tr>\n",
       "    <tr>\n",
       "      <th>3</th>\n",
       "      <td>2021-02-09</td>\n",
       "      <td>CTG</td>\n",
       "      <td>34.45</td>\n",
       "      <td>35.45</td>\n",
       "      <td>34.00</td>\n",
       "      <td>35.40</td>\n",
       "      <td>8069900</td>\n",
       "    </tr>\n",
       "    <tr>\n",
       "      <th>4</th>\n",
       "      <td>2021-02-08</td>\n",
       "      <td>CTG</td>\n",
       "      <td>34.05</td>\n",
       "      <td>36.10</td>\n",
       "      <td>33.90</td>\n",
       "      <td>34.05</td>\n",
       "      <td>12845300</td>\n",
       "    </tr>\n",
       "  </tbody>\n",
       "</table>\n",
       "</div>"
      ],
      "text/plain": [
       "      <Date> <Ticker>  <Open>  <High>  <Low>  <Close>  <Volume>\n",
       "0 2021-02-19      CTG   37.00   37.50  36.10    37.00  12154600\n",
       "1 2021-02-18      CTG   36.80   37.05  36.30    36.80  10032300\n",
       "2 2021-02-17      CTG   36.40   36.80  35.85    36.80   9896400\n",
       "3 2021-02-09      CTG   34.45   35.45  34.00    35.40   8069900\n",
       "4 2021-02-08      CTG   34.05   36.10  33.90    34.05  12845300"
      ]
     },
     "execution_count": 52,
     "metadata": {},
     "output_type": "execute_result"
    }
   ],
   "source": [
    "df.head()"
   ]
  },
  {
   "cell_type": "code",
   "execution_count": 53,
   "metadata": {},
   "outputs": [
    {
     "data": {
      "text/plain": [
       "0    1.40\n",
       "1    0.75\n",
       "2    0.95\n",
       "3    1.45\n",
       "4    2.20\n",
       "dtype: float64"
      ]
     },
     "execution_count": 53,
     "metadata": {},
     "output_type": "execute_result"
    }
   ],
   "source": [
    "df.apply(high_low, axis=1).head()"
   ]
  },
  {
   "cell_type": "code",
   "execution_count": 54,
   "metadata": {},
   "outputs": [
    {
     "data": {
      "text/plain": [
       "pandas.core.series.Series"
      ]
     },
     "execution_count": 54,
     "metadata": {},
     "output_type": "execute_result"
    }
   ],
   "source": [
    "type(df.apply(high_low, axis=1))"
   ]
  },
  {
   "cell_type": "code",
   "execution_count": 55,
   "metadata": {},
   "outputs": [],
   "source": [
    "High_Low= df.apply(high_low, axis=1)"
   ]
  },
  {
   "cell_type": "markdown",
   "metadata": {},
   "source": [
    "### PLOTTING"
   ]
  },
  {
   "cell_type": "markdown",
   "metadata": {},
   "source": [
    "#### LINE CHART"
   ]
  },
  {
   "cell_type": "code",
   "execution_count": 59,
   "metadata": {},
   "outputs": [],
   "source": [
    "# .plot()"
   ]
  },
  {
   "cell_type": "code",
   "execution_count": 62,
   "metadata": {},
   "outputs": [
    {
     "data": {
      "text/plain": [
       "<AxesSubplot:>"
      ]
     },
     "execution_count": 62,
     "metadata": {},
     "output_type": "execute_result"
    },
    {
     "data": {
      "image/png": "[encoded data removed]",
      "text/plain": [
       "<Figure size 1440x432 with 1 Axes>"
      ]
     },
     "metadata": {
      "needs_background": "light"
     },
     "output_type": "display_data"
    }
   ],
   "source": [
    "df['<Close>'].plot(c='darkred',figsize=(20,6))"
   ]
  },
  {
   "cell_type": "code",
   "execution_count": 73,
   "metadata": {},
   "outputs": [],
   "source": [
    "# What about drawing 2 lines simultaneously ??\n",
    "# 1st, lets import new dataset @-@\n",
    "\n",
    "df2=pd.read_csv('C:/Users/Win 10/Documents/RISKY PORTFOLIO/excel_pnj.csv')\n",
    "df['<Close_2>']= df2['<Close>']"
   ]
  },
  {
   "cell_type": "code",
   "execution_count": 74,
   "metadata": {},
   "outputs": [
    {
     "data": {
      "text/plain": [
       "<AxesSubplot:>"
      ]
     },
     "execution_count": 74,
     "metadata": {},
     "output_type": "execute_result"
    },
    {
     "data": {
      "image/png": "[encoded data removed]",
      "text/plain": [
       "<Figure size 1440x432 with 1 Axes>"
      ]
     },
     "metadata": {
      "needs_background": "light"
     },
     "output_type": "display_data"
    }
   ],
   "source": [
    "df[['<Close>','<Close_2>']].plot(figsize=(20,6))"
   ]
  },
  {
   "cell_type": "markdown",
   "metadata": {},
   "source": [
    "#### BOX PLOT"
   ]
  },
  {
   "cell_type": "code",
   "execution_count": 82,
   "metadata": {},
   "outputs": [],
   "source": [
    "# .plot.box()"
   ]
  },
  {
   "cell_type": "code",
   "execution_count": 65,
   "metadata": {},
   "outputs": [],
   "source": [
    "# First, lets import different dataset @-@\n",
    "df3= pd.read_csv('C:/Users/Win 10/Desktop/MACHINE LEARNING/3. CLASSIFICATION/PROJECTS/1.BREAST CANCER WISCONSIN/breast_cancer.csv')"
   ]
  },
  {
   "cell_type": "code",
   "execution_count": 66,
   "metadata": {},
   "outputs": [
    {
     "data": {
      "text/html": [
       "<div>\n",
       "<style scoped>\n",
       "    .dataframe tbody tr th:only-of-type {\n",
       "        vertical-align: middle;\n",
       "    }\n",
       "\n",
       "    .dataframe tbody tr th {\n",
       "        vertical-align: top;\n",
       "    }\n",
       "\n",
       "    .dataframe thead th {\n",
       "        text-align: right;\n",
       "    }\n",
       "</style>\n",
       "<table border=\"1\" class=\"dataframe\">\n",
       "  <thead>\n",
       "    <tr style=\"text-align: right;\">\n",
       "      <th></th>\n",
       "      <th>Sample code number</th>\n",
       "      <th>Clump Thickness</th>\n",
       "      <th>Uniformity of Cell Size</th>\n",
       "      <th>Uniformity of Cell Shape</th>\n",
       "      <th>Marginal Adhesion</th>\n",
       "      <th>Single Epithelial Cell Size</th>\n",
       "      <th>Bare Nuclei</th>\n",
       "      <th>Bland Chromatin</th>\n",
       "      <th>Normal Nucleoli</th>\n",
       "      <th>Mitoses</th>\n",
       "      <th>Class</th>\n",
       "    </tr>\n",
       "  </thead>\n",
       "  <tbody>\n",
       "    <tr>\n",
       "      <th>0</th>\n",
       "      <td>1000025</td>\n",
       "      <td>5</td>\n",
       "      <td>1</td>\n",
       "      <td>1</td>\n",
       "      <td>1</td>\n",
       "      <td>2</td>\n",
       "      <td>1</td>\n",
       "      <td>3</td>\n",
       "      <td>1</td>\n",
       "      <td>1</td>\n",
       "      <td>2</td>\n",
       "    </tr>\n",
       "    <tr>\n",
       "      <th>1</th>\n",
       "      <td>1002945</td>\n",
       "      <td>5</td>\n",
       "      <td>4</td>\n",
       "      <td>4</td>\n",
       "      <td>5</td>\n",
       "      <td>7</td>\n",
       "      <td>10</td>\n",
       "      <td>3</td>\n",
       "      <td>2</td>\n",
       "      <td>1</td>\n",
       "      <td>2</td>\n",
       "    </tr>\n",
       "    <tr>\n",
       "      <th>2</th>\n",
       "      <td>1015425</td>\n",
       "      <td>3</td>\n",
       "      <td>1</td>\n",
       "      <td>1</td>\n",
       "      <td>1</td>\n",
       "      <td>2</td>\n",
       "      <td>2</td>\n",
       "      <td>3</td>\n",
       "      <td>1</td>\n",
       "      <td>1</td>\n",
       "      <td>2</td>\n",
       "    </tr>\n",
       "  </tbody>\n",
       "</table>\n",
       "</div>"
      ],
      "text/plain": [
       "   Sample code number  Clump Thickness  Uniformity of Cell Size  \\\n",
       "0             1000025                5                        1   \n",
       "1             1002945                5                        4   \n",
       "2             1015425                3                        1   \n",
       "\n",
       "   Uniformity of Cell Shape  Marginal Adhesion  Single Epithelial Cell Size  \\\n",
       "0                         1                  1                            2   \n",
       "1                         4                  5                            7   \n",
       "2                         1                  1                            2   \n",
       "\n",
       "   Bare Nuclei  Bland Chromatin  Normal Nucleoli  Mitoses  Class  \n",
       "0            1                3                1        1      2  \n",
       "1           10                3                2        1      2  \n",
       "2            2                3                1        1      2  "
      ]
     },
     "execution_count": 66,
     "metadata": {},
     "output_type": "execute_result"
    }
   ],
   "source": [
    "df3.head(3)"
   ]
  },
  {
   "cell_type": "code",
   "execution_count": 78,
   "metadata": {},
   "outputs": [
    {
     "data": {
      "text/plain": [
       "Index(['Sample code number', 'Clump Thickness', 'Uniformity of Cell Size',\n",
       "       'Uniformity of Cell Shape', 'Marginal Adhesion',\n",
       "       'Single Epithelial Cell Size', 'Bare Nuclei', 'Bland Chromatin',\n",
       "       'Normal Nucleoli', 'Mitoses', 'Class'],\n",
       "      dtype='object')"
      ]
     },
     "execution_count": 78,
     "metadata": {},
     "output_type": "execute_result"
    }
   ],
   "source": [
    "df3.columns"
   ]
  },
  {
   "cell_type": "code",
   "execution_count": 81,
   "metadata": {},
   "outputs": [
    {
     "data": {
      "image/png": "[encoded data removed]",
      "text/plain": [
       "<Figure size 720x432 with 1 Axes>"
      ]
     },
     "metadata": {
      "needs_background": "light"
     },
     "output_type": "display_data"
    }
   ],
   "source": [
    "df3[['Clump Thickness', 'Uniformity of Cell Size',\n",
    "       'Uniformity of Cell Shape', 'Marginal Adhesion',\n",
    "       'Single Epithelial Cell Size', 'Bare Nuclei', 'Bland Chromatin',\n",
    "       'Normal Nucleoli']].plot.box(figsize=(10,6));"
   ]
  },
  {
   "cell_type": "markdown",
   "metadata": {},
   "source": [
    "#### SCATTER MATRIX"
   ]
  },
  {
   "cell_type": "code",
   "execution_count": 83,
   "metadata": {},
   "outputs": [],
   "source": [
    "from pandas.plotting import scatter_matrix"
   ]
  },
  {
   "cell_type": "code",
   "execution_count": 85,
   "metadata": {},
   "outputs": [
    {
     "data": {
      "image/png": "[encoded data removed]",
      "text/plain": [
       "<Figure size 720x720 with 64 Axes>"
      ]
     },
     "metadata": {
      "needs_background": "light"
     },
     "output_type": "display_data"
    }
   ],
   "source": [
    "scatter_matrix(df3[['Clump Thickness', 'Uniformity of Cell Size',\n",
    "       'Uniformity of Cell Shape', 'Marginal Adhesion',\n",
    "       'Single Epithelial Cell Size', 'Bare Nuclei', 'Bland Chromatin',\n",
    "       'Normal Nucleoli']],alpha=0.2, figsize=(10,10));"
   ]
  },
  {
   "cell_type": "markdown",
   "metadata": {},
   "source": [
    "#### PANDAS EXERCISE"
   ]
  },
  {
   "cell_type": "markdown",
   "metadata": {},
   "source": [
    "GENERATE THE DONUT DATASET"
   ]
  },
  {
   "cell_type": "code",
   "execution_count": 133,
   "metadata": {},
   "outputs": [],
   "source": [
    "import numpy as np\n",
    "import matplotlib.pyplot as plt"
   ]
  },
  {
   "cell_type": "code",
   "execution_count": 154,
   "metadata": {},
   "outputs": [],
   "source": [
    "x1=np.random.uniform(-1,1,300)\n",
    "y1= np.sqrt(1-x1**2)+np.random.randn(300)/3"
   ]
  },
  {
   "cell_type": "code",
   "execution_count": 157,
   "metadata": {},
   "outputs": [],
   "source": [
    "x2=np.random.uniform(-2.5,2.5,400)\n",
    "y2= np.sqrt((2.5**2)-x2**2)+np.random.randn(400)/3"
   ]
  },
  {
   "cell_type": "code",
   "execution_count": 158,
   "metadata": {},
   "outputs": [],
   "source": [
    "x1=np.concatenate((x1,x1))\n",
    "x2=np.concatenate((x2,x2))"
   ]
  },
  {
   "cell_type": "code",
   "execution_count": 159,
   "metadata": {},
   "outputs": [],
   "source": [
    "y1= np.concatenate((y1,-y1))\n",
    "y2= np.concatenate((y2,-y2))"
   ]
  },
  {
   "cell_type": "code",
   "execution_count": 160,
   "metadata": {},
   "outputs": [
    {
     "data": {
      "text/plain": [
       "(1400,)"
      ]
     },
     "execution_count": 160,
     "metadata": {},
     "output_type": "execute_result"
    }
   ],
   "source": [
    "x=np.concatenate((x1,x2))\n",
    "x.shape"
   ]
  },
  {
   "cell_type": "code",
   "execution_count": 161,
   "metadata": {},
   "outputs": [
    {
     "data": {
      "text/plain": [
       "(1400,)"
      ]
     },
     "execution_count": 161,
     "metadata": {},
     "output_type": "execute_result"
    }
   ],
   "source": [
    "y=np.concatenate((y1,y2))\n",
    "y.shape"
   ]
  },
  {
   "cell_type": "code",
   "execution_count": 162,
   "metadata": {},
   "outputs": [],
   "source": [
    "label=np.zeros(1400)\n",
    "label[600:]=np.ones(800)"
   ]
  },
  {
   "cell_type": "code",
   "execution_count": 163,
   "metadata": {},
   "outputs": [
    {
     "data": {
      "text/plain": [
       "<matplotlib.collections.PathCollection at 0x2a039da7880>"
      ]
     },
     "execution_count": 163,
     "metadata": {},
     "output_type": "execute_result"
    },
    {
     "data": {
      "image/png": "[encoded data removed]",
      "text/plain": [
       "<Figure size 432x288 with 1 Axes>"
      ]
     },
     "metadata": {
      "needs_background": "light"
     },
     "output_type": "display_data"
    }
   ],
   "source": [
    "plt.scatter(x,y,c=label)"
   ]
  },
  {
   "cell_type": "code",
   "execution_count": 164,
   "metadata": {},
   "outputs": [],
   "source": [
    "A=np.concatenate((x,y)).reshape(2,1400).T"
   ]
  },
  {
   "cell_type": "code",
   "execution_count": 165,
   "metadata": {},
   "outputs": [
    {
     "data": {
      "text/plain": [
       "array([[-0.20867106,  0.62009085],\n",
       "       [ 0.17053753,  0.83616194],\n",
       "       [-0.45525632,  0.57577042],\n",
       "       ...,\n",
       "       [-1.66417588, -1.5813489 ],\n",
       "       [-0.40244989, -2.35098143],\n",
       "       [ 2.04432273, -1.42445731]])"
      ]
     },
     "execution_count": 165,
     "metadata": {},
     "output_type": "execute_result"
    }
   ],
   "source": [
    "A"
   ]
  },
  {
   "cell_type": "code",
   "execution_count": 130,
   "metadata": {},
   "outputs": [
    {
     "data": {
      "text/html": [
       "<div>\n",
       "<style scoped>\n",
       "    .dataframe tbody tr th:only-of-type {\n",
       "        vertical-align: middle;\n",
       "    }\n",
       "\n",
       "    .dataframe tbody tr th {\n",
       "        vertical-align: top;\n",
       "    }\n",
       "\n",
       "    .dataframe thead th {\n",
       "        text-align: right;\n",
       "    }\n",
       "</style>\n",
       "<table border=\"1\" class=\"dataframe\">\n",
       "  <thead>\n",
       "    <tr style=\"text-align: right;\">\n",
       "      <th></th>\n",
       "      <th>X</th>\n",
       "      <th>Y</th>\n",
       "    </tr>\n",
       "  </thead>\n",
       "  <tbody>\n",
       "    <tr>\n",
       "      <th>0</th>\n",
       "      <td>0.892798</td>\n",
       "      <td>0.450458</td>\n",
       "    </tr>\n",
       "    <tr>\n",
       "      <th>1</th>\n",
       "      <td>-0.671900</td>\n",
       "      <td>0.740642</td>\n",
       "    </tr>\n",
       "    <tr>\n",
       "      <th>2</th>\n",
       "      <td>-0.157329</td>\n",
       "      <td>0.987546</td>\n",
       "    </tr>\n",
       "    <tr>\n",
       "      <th>3</th>\n",
       "      <td>0.160341</td>\n",
       "      <td>0.987062</td>\n",
       "    </tr>\n",
       "    <tr>\n",
       "      <th>4</th>\n",
       "      <td>0.870041</td>\n",
       "      <td>0.492980</td>\n",
       "    </tr>\n",
       "  </tbody>\n",
       "</table>\n",
       "</div>"
      ],
      "text/plain": [
       "          X         Y\n",
       "0  0.892798  0.450458\n",
       "1 -0.671900  0.740642\n",
       "2 -0.157329  0.987546\n",
       "3  0.160341  0.987062\n",
       "4  0.870041  0.492980"
      ]
     },
     "execution_count": 130,
     "metadata": {},
     "output_type": "execute_result"
    }
   ],
   "source": [
    "data= pd.DataFrame(A,columns=['X','Y'])\n",
    "data.head()"
   ]
  },
  {
   "cell_type": "code",
   "execution_count": 167,
   "metadata": {},
   "outputs": [],
   "source": [
    "data['X2'] = data['X']**2\n",
    "data['Y2'] = data['Y']**2\n",
    "data['XY'] = data['X']*data['Y']"
   ]
  },
  {
   "cell_type": "code",
   "execution_count": 168,
   "metadata": {},
   "outputs": [],
   "source": [
    "data['y'] = pd.Series(label)"
   ]
  },
  {
   "cell_type": "code",
   "execution_count": 169,
   "metadata": {},
   "outputs": [
    {
     "data": {
      "text/html": [
       "<div>\n",
       "<style scoped>\n",
       "    .dataframe tbody tr th:only-of-type {\n",
       "        vertical-align: middle;\n",
       "    }\n",
       "\n",
       "    .dataframe tbody tr th {\n",
       "        vertical-align: top;\n",
       "    }\n",
       "\n",
       "    .dataframe thead th {\n",
       "        text-align: right;\n",
       "    }\n",
       "</style>\n",
       "<table border=\"1\" class=\"dataframe\">\n",
       "  <thead>\n",
       "    <tr style=\"text-align: right;\">\n",
       "      <th></th>\n",
       "      <th>X</th>\n",
       "      <th>Y</th>\n",
       "      <th>X2</th>\n",
       "      <th>Y2</th>\n",
       "      <th>XY</th>\n",
       "      <th>y</th>\n",
       "    </tr>\n",
       "  </thead>\n",
       "  <tbody>\n",
       "    <tr>\n",
       "      <th>0</th>\n",
       "      <td>0.892798</td>\n",
       "      <td>0.450458</td>\n",
       "      <td>0.797088</td>\n",
       "      <td>0.202912</td>\n",
       "      <td>0.402168</td>\n",
       "      <td>0.0</td>\n",
       "    </tr>\n",
       "    <tr>\n",
       "      <th>1</th>\n",
       "      <td>-0.671900</td>\n",
       "      <td>0.740642</td>\n",
       "      <td>0.451449</td>\n",
       "      <td>0.548551</td>\n",
       "      <td>-0.497637</td>\n",
       "      <td>0.0</td>\n",
       "    </tr>\n",
       "    <tr>\n",
       "      <th>2</th>\n",
       "      <td>-0.157329</td>\n",
       "      <td>0.987546</td>\n",
       "      <td>0.024752</td>\n",
       "      <td>0.975248</td>\n",
       "      <td>-0.155370</td>\n",
       "      <td>0.0</td>\n",
       "    </tr>\n",
       "    <tr>\n",
       "      <th>3</th>\n",
       "      <td>0.160341</td>\n",
       "      <td>0.987062</td>\n",
       "      <td>0.025709</td>\n",
       "      <td>0.974291</td>\n",
       "      <td>0.158266</td>\n",
       "      <td>0.0</td>\n",
       "    </tr>\n",
       "    <tr>\n",
       "      <th>4</th>\n",
       "      <td>0.870041</td>\n",
       "      <td>0.492980</td>\n",
       "      <td>0.756971</td>\n",
       "      <td>0.243029</td>\n",
       "      <td>0.428913</td>\n",
       "      <td>0.0</td>\n",
       "    </tr>\n",
       "  </tbody>\n",
       "</table>\n",
       "</div>"
      ],
      "text/plain": [
       "          X         Y        X2        Y2        XY    y\n",
       "0  0.892798  0.450458  0.797088  0.202912  0.402168  0.0\n",
       "1 -0.671900  0.740642  0.451449  0.548551 -0.497637  0.0\n",
       "2 -0.157329  0.987546  0.024752  0.975248 -0.155370  0.0\n",
       "3  0.160341  0.987062  0.025709  0.974291  0.158266  0.0\n",
       "4  0.870041  0.492980  0.756971  0.243029  0.428913  0.0"
      ]
     },
     "execution_count": 169,
     "metadata": {},
     "output_type": "execute_result"
    }
   ],
   "source": [
    "data.head()"
   ]
  },
  {
   "cell_type": "code",
   "execution_count": 170,
   "metadata": {},
   "outputs": [],
   "source": [
    "data.to_csv('donut_data.csv')"
   ]
  },
  {
   "cell_type": "code",
   "execution_count": null,
   "metadata": {},
   "outputs": [],
   "source": []
  }
 ],
 "metadata": {
  "kernelspec": {
   "display_name": "Python 3",
   "language": "python",
   "name": "python3"
  },
  "language_info": {
   "codemirror_mode": {
    "name": "ipython",
    "version": 3
   },
   "file_extension": ".py",
   "mimetype": "text/x-python",
   "name": "python",
   "nbconvert_exporter": "python",
   "pygments_lexer": "ipython3",
   "version": "3.8.5"
  }
 },
 "nbformat": 4,
 "nbformat_minor": 4
}
